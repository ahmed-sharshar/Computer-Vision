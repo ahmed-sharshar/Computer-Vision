{
  "nbformat": 4,
  "nbformat_minor": 0,
  "metadata": {
    "colab": {
      "name": "Ahmed Sharshar - CV_Lab_2.ipynb",
      "provenance": [],
      "collapsed_sections": []
    },
    "kernelspec": {
      "name": "python3",
      "display_name": "Python 3"
    },
    "language_info": {
      "name": "python"
    }
  },
  "cells": [
    {
      "cell_type": "markdown",
      "metadata": {
        "id": "KklDHUJZqSB_"
      },
      "source": [
        "### The Zhang-Suen's Thinning Algorithm"
      ]
    },
    {
      "cell_type": "code",
      "metadata": {
        "id": "a2eQpdbMsmXF",
        "colab": {
          "base_uri": "https://localhost:8080/"
        },
        "outputId": "04cb0abc-ef7f-453d-809d-0f54d7153e02"
      },
      "source": [
        "!wget https://www.dropbox.com/s/ufadmw4xbtpi2fc/japanese_character.png"
      ],
      "execution_count": null,
      "outputs": [
        {
          "output_type": "stream",
          "text": [
            "--2021-04-12 21:25:39--  https://www.dropbox.com/s/ufadmw4xbtpi2fc/japanese_character.png\n",
            "Resolving www.dropbox.com (www.dropbox.com)... 162.125.1.18, 2620:100:6016:18::a27d:112\n",
            "Connecting to www.dropbox.com (www.dropbox.com)|162.125.1.18|:443... connected.\n",
            "HTTP request sent, awaiting response... 301 Moved Permanently\n",
            "Location: /s/raw/ufadmw4xbtpi2fc/japanese_character.png [following]\n",
            "--2021-04-12 21:25:39--  https://www.dropbox.com/s/raw/ufadmw4xbtpi2fc/japanese_character.png\n",
            "Reusing existing connection to www.dropbox.com:443.\n",
            "HTTP request sent, awaiting response... 302 Found\n",
            "Location: https://ucf2436ece0a52350c0c71c377fd.dl.dropboxusercontent.com/cd/0/inline/BMhYMWTX68pv7dsV_2iNZeflkQrMwu9EQ-8LSJ47EX2UZNU8Jxi9047F5XTdZpxlUZOY_uVSfjjulqh76LohOyFx3_CRLj7mgVqtjxPDV7d-d1TT1EjhzsMK5xBb8rLcYNY57FDfNfrL8ERewz3XGPeh/file# [following]\n",
            "--2021-04-12 21:25:39--  https://ucf2436ece0a52350c0c71c377fd.dl.dropboxusercontent.com/cd/0/inline/BMhYMWTX68pv7dsV_2iNZeflkQrMwu9EQ-8LSJ47EX2UZNU8Jxi9047F5XTdZpxlUZOY_uVSfjjulqh76LohOyFx3_CRLj7mgVqtjxPDV7d-d1TT1EjhzsMK5xBb8rLcYNY57FDfNfrL8ERewz3XGPeh/file\n",
            "Resolving ucf2436ece0a52350c0c71c377fd.dl.dropboxusercontent.com (ucf2436ece0a52350c0c71c377fd.dl.dropboxusercontent.com)... 162.125.1.15, 2620:100:601a:15::a27d:70f\n",
            "Connecting to ucf2436ece0a52350c0c71c377fd.dl.dropboxusercontent.com (ucf2436ece0a52350c0c71c377fd.dl.dropboxusercontent.com)|162.125.1.15|:443... connected.\n",
            "HTTP request sent, awaiting response... 200 OK\n",
            "Length: 8980 (8.8K) [image/png]\n",
            "Saving to: ‘japanese_character.png’\n",
            "\n",
            "japanese_character. 100%[===================>]   8.77K  --.-KB/s    in 0s      \n",
            "\n",
            "2021-04-12 21:25:40 (147 MB/s) - ‘japanese_character.png’ saved [8980/8980]\n",
            "\n"
          ],
          "name": "stdout"
        }
      ]
    },
    {
      "cell_type": "code",
      "metadata": {
        "id": "6GecJiqpqA9U"
      },
      "source": [
        "import cv2\n",
        "import numpy as np\n",
        "\n",
        "img = cv2.imread('japanese_character.png', 0) #read the image\n",
        "ret, thresh1 = cv2.threshold(img, 127, 255, cv2.THRESH_BINARY)\n",
        "bin_thresh = (thresh1 == 0).astype(int) #convert the image to binary scale"
      ],
      "execution_count": null,
      "outputs": []
    },
    {
      "cell_type": "code",
      "metadata": {
        "id": "QxOHZnLVwtqV",
        "colab": {
          "base_uri": "https://localhost:8080/",
          "height": 248
        },
        "outputId": "5995bb4c-5e69-4e6a-d71a-91520d0e0d2c"
      },
      "source": [
        "from matplotlib import pyplot as plt\n",
        "plt.imshow(1 - bin_thresh, cmap='gray'), plt.axis(\"off\") #show the image as the black pixels\n",
        "plt.show()"
      ],
      "execution_count": null,
      "outputs": [
        {
          "output_type": "display_data",
          "data": {
            "image/png": "[encoded data removed]",
            "text/plain": [
              "<Figure size 432x288 with 1 Axes>"
            ]
          },
          "metadata": {
            "tags": [],
            "needs_background": "light"
          }
        }
      ]
    },
    {
      "cell_type": "markdown",
      "metadata": {
        "id": "DeZTqNSgEJyp"
      },
      "source": [
        "**#Find the neighbours of the starting point img[x][y]**"
      ]
    },
    {
      "cell_type": "code",
      "metadata": {
        "id": "eySX-mWb1WaA"
      },
      "source": [
        "def neighbours(x,y,img):\n",
        "    x_1 = x-1\n",
        "    y_1 = y-1\n",
        "    x1 = x+1\n",
        "    y1 = y+1\n",
        "    return [ img[x_1][y], img[x_1][y1], img[x][y1], img[x1][y1],    \n",
        "                img[x1][y], img[x1][y_1], img[x][y_1], img[x_1][y_1] ]   "
      ],
      "execution_count": null,
      "outputs": []
    },
    {
      "cell_type": "markdown",
      "metadata": {
        "id": "_7CiegU8EawD"
      },
      "source": [
        "**#Compute the number of transions from 0 to one in the sequence P2, P3, ... , P8, P9, P2**"
      ]
    },
    {
      "cell_type": "code",
      "metadata": {
        "id": "Evp0P3ITKpv8"
      },
      "source": [
        "def transitions(neighbours):\n",
        "    transition = 0\n",
        "    n = neighbours + [neighbours[0]]\n",
        "    for i in range(8):\n",
        "      if ((n[i] == 0 ) and (n[i+1] == 1)): #check if there is a transition between i = 0 and i+1 = 1\n",
        "             transition = transition + 1  # increase the number of transions in the neighbours by 1\n",
        "    return transition "
      ],
      "execution_count": null,
      "outputs": []
    },
    {
      "cell_type": "markdown",
      "metadata": {
        "id": "sSPlnRkbEAE2"
      },
      "source": [
        "**#Apply Zhang-Suen Thinning Algorithm**"
      ]
    },
    {
      "cell_type": "code",
      "metadata": {
        "id": "1JM-0nrwLR_V"
      },
      "source": [
        "def zhangSuen(img):\n",
        "    thin = img.copy()  #keep the original image safe from editing\n",
        "    #initialize pointers to pixels that should set to 0\n",
        "    step1 = 1 \n",
        "    step2 = 1        \n",
        "    while step1 or step2:   #loop until no changes happenes in step1 or step 2\n",
        "        # Step 1\n",
        "        step1 = [] #initialize an empty array to append the flagged pixels to be set to 0\n",
        "        #set x to point for rows and y for columns\n",
        "        rows, columns = thin.shape              \n",
        "        for x in range(1, rows - 1):                     #loop for every row\n",
        "            for y in range(1, columns - 1):              # loop for everycolumn\n",
        "                P2,P3,P4,P5,P6,P7,P8,P9 = n = neighbours(x, y, thin)\n",
        "                #satisfy all the conditions\n",
        "                if (thin[x][y] == 1             # Condition 0 \n",
        "                   and  2 <= sum(n) <= 6        # Condition 1\n",
        "                   and  transitions(n) == 1     # Condition 2  \n",
        "                   and  P2 * P4 * P6 == 0       # Condition 3   \n",
        "                   and P4 * P6 * P8 == 0):      # Condition 4\n",
        "                    step1.append((x,y))\n",
        "        for x, y in step1: \n",
        "            thin[x][y] = 0  #set the flagged pixels that satisfy the conditions to 0\n",
        "\n",
        "\n",
        "        # Step 2 (same as step1)\n",
        "        step2 = []\n",
        "        for x in range(1, rows - 1):\n",
        "            for y in range(1, columns - 1):\n",
        "                P2,P3,P4,P5,P6,P7,P8,P9 = n = neighbours(x, y, thin)\n",
        "                if (thin[x][y] == 1              # Condition 0\n",
        "                  and  2 <= sum(n) <= 6          # Condition 1\n",
        "                  and  transitions(n) == 1       # Condition 2\n",
        "                  and  P2 * P4 * P8 == 0         # Condition 3\n",
        "                  and  P2 * P6 * P8 == 0):       # Condition 4\n",
        "                    step2.append((x,y))    \n",
        "        for x, y in step2: \n",
        "            thin[x][y] = 0\n",
        "    return thin"
      ],
      "execution_count": null,
      "outputs": []
    },
    {
      "cell_type": "code",
      "metadata": {
        "colab": {
          "base_uri": "https://localhost:8080/",
          "height": 199
        },
        "id": "DFo1Imtp2ZAi",
        "outputId": "cb8cd1cd-a1d1-4792-f1dd-6ff7afcdd0f1"
      },
      "source": [
        "# show the image and the skeleton\n",
        "BW_Skeleton = zhangSuen(bin_thresh)\n",
        "fig, ax = plt.subplots(1, 2)\n",
        "ax1, ax2 = ax.ravel()\n",
        "ax1.imshow(bin_thresh, cmap=plt.cm.gray)\n",
        "ax1.set_title('Original image')\n",
        "ax1.axis('off')\n",
        "ax2.imshow(BW_Skeleton, cmap=plt.cm.gray)\n",
        "ax2.set_title('Image Skeleton')\n",
        "ax2.axis('off')\n",
        "plt.show()"
      ],
      "execution_count": null,
      "outputs": [
        {
          "output_type": "display_data",
          "data": {
            "image/png": "[encoded data removed]",
            "text/plain": [
              "<Figure size 432x288 with 2 Axes>"
            ]
          },
          "metadata": {
            "tags": [],
            "needs_background": "light"
          }
        }
      ]
    },
    {
      "cell_type": "code",
      "metadata": {
        "id": "x7u4kEBC2z33"
      },
      "source": [],
      "execution_count": null,
      "outputs": []
    }
  ]
}